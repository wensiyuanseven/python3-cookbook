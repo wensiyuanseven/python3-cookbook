{
  "cells": [
    {
      "cell_type": "markdown",
      "metadata": {},
      "source": [
        "## 1.9 查找两字典的相同点\n"
      ]
    },
    {
      "cell_type": "markdown",
      "metadata": {},
      "source": [
        "### 问题\n"
      ]
    },
    {
      "cell_type": "markdown",
      "metadata": {},
      "source": [
        "怎样在两个字典中寻找相同点（比如相同的键、相同的值等等）？"
      ]
    },
    {
      "cell_type": "markdown",
      "metadata": {},
      "source": [
        "### 解决方案\n"
      ]
    },
    {
      "cell_type": "markdown",
      "metadata": {},
      "source": [
        "考虑下面两个字典："
      ]
    },
    {
      "cell_type": "code",
      "execution_count": 12,
      "metadata": {},
      "outputs": [
        {
          "name": "stdout",
          "output_type": "stream",
          "text": [
            "dict_items([('x', 1), ('y', 2), ('z', 3)])\n"
          ]
        }
      ],
      "source": [
        "a = {\n",
        "    'x' : 1,\n",
        "    'y' : 2,\n",
        "    'z' : 3\n",
        "}\n",
        "\n",
        "b = {\n",
        "    'w' : 10,\n",
        "    'x' : 11,\n",
        "    'y' : 2\n",
        "}\n",
        "print(a.items())"
      ]
    },
    {
      "cell_type": "markdown",
      "metadata": {},
      "source": [
        "为了寻找两个字典的相同点，可以简单的在两字典的 keys() 或者 items() 方法返回结果上执行集合操作。比如："
      ]
    },
    {
      "cell_type": "code",
      "execution_count": 5,
      "metadata": {},
      "outputs": [
        {
          "data": {
            "text/plain": [
              "{('y', 2)}"
            ]
          },
          "execution_count": 5,
          "metadata": {},
          "output_type": "execute_result"
        }
      ],
      "source": [
        "# Find keys in common\n",
        "a.keys() & b.keys() # { 'x', 'y' }\n",
        "# Find keys in a that are not in b\n",
        "a.keys() - b.keys() # { 'z' }\n",
        "# Find (key,value) pairs in common\n",
        "a.items() & b.items() # { ('y', 2) }"
      ]
    },
    {
      "cell_type": "markdown",
      "metadata": {},
      "source": [
        "这些操作也可以用于修改或者过滤字典元素。\n",
        "比如，假如你想以现有字典构造一个排除几个指定键的新字典。\n",
        "下面利用字典推导来实现这样的需求："
      ]
    },
    {
      "cell_type": "code",
      "execution_count": 11,
      "metadata": {},
      "outputs": [
        {
          "name": "stdout",
          "output_type": "stream",
          "text": [
            "{'y': 2, 'x': 1}\n"
          ]
        }
      ],
      "source": [
        "# Make a new dictionary with certain keys removed\n",
        "c = {key:a[key] for key in a.keys() - {'z', 'w'}}\n",
        "# print(a.keys() - {'z', 'w'})\n",
        "# c is {'x': 1, 'y': 2}\n",
        "print(c)"
      ]
    },
    {
      "cell_type": "markdown",
      "metadata": {},
      "source": [
        "### 讨论\n"
      ]
    },
    {
      "cell_type": "markdown",
      "metadata": {},
      "source": [
        "一个字典就是一个键集合与值集合的映射关系。\n",
        "字典的 keys() 方法返回一个展现键集合的键视图对象。\n",
        "键视图的一个很少被了解的特性就是它们也支持集合操作，比如集合并、交、差运算。\n",
        "所以，如果你想对集合的键执行一些普通的集合操作，可以直接使用键视图对象而不用先将它们转换成一个 set。"
      ]
    },
    {
      "cell_type": "markdown",
      "metadata": {},
      "source": [
        "字典的 items() 方法返回一个包含 (键，值) 对的元素视图对象。\n",
        "这个对象同样也支持集合操作，并且可以被用来查找两个字典有哪些相同的键值对。"
      ]
    },
    {
      "cell_type": "markdown",
      "metadata": {},
      "source": [
        "尽管字典的 values() 方法也是类似，但是它并不支持这里介绍的集合操作。\n",
        "某种程度上是因为值视图不能保证所有的值互不相同，这样会导致某些集合操作会出现问题。\n",
        "不过，如果你硬要在值上面执行这些集合操作的话，你可以先将值集合转换成 set，然后再执行集合运算就行了。"
      ]
    }
  ],
  "metadata": {
    "kernelspec": {
      "display_name": "Python 3",
      "language": "python",
      "name": "python3"
    },
    "language_info": {
      "codemirror_mode": {
        "name": "ipython",
        "version": 3
      },
      "file_extension": ".py",
      "mimetype": "text/x-python",
      "name": "python",
      "nbconvert_exporter": "python",
      "pygments_lexer": "ipython3",
      "version": "3.11.5"
    },
    "toc": {
      "base_numbering": 1,
      "nav_menu": {},
      "number_sections": true,
      "sideBar": true,
      "skip_h1_title": true,
      "title_cell": "Table of Contents",
      "title_sidebar": "Contents",
      "toc_cell": false,
      "toc_position": {},
      "toc_section_display": true,
      "toc_window_display": true
    }
  },
  "nbformat": 4,
  "nbformat_minor": 2
}
