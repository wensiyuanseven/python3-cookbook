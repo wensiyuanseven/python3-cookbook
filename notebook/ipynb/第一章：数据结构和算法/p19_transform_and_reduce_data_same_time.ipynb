{
  "cells": [
    {
      "cell_type": "markdown",
      "metadata": {},
      "source": [
        "## 1.19 转换并同时计算数据\n"
      ]
    },
    {
      "cell_type": "markdown",
      "metadata": {},
      "source": [
        "### 问题\n"
      ]
    },
    {
      "cell_type": "markdown",
      "metadata": {},
      "source": [
        "你需要在数据序列上执行聚集函数（比如 sum() , min() , max() ），\n",
        "但是首先你需要先转换或者过滤数据"
      ]
    },
    {
      "cell_type": "markdown",
      "metadata": {},
      "source": [
        "### 解决方案\n"
      ]
    },
    {
      "cell_type": "markdown",
      "metadata": {},
      "source": [
        "一个非常优雅的方式去结合数据计算与转换就是使用一个生成器表达式参数。\n",
        "比如，如果你想计算平方和，可以像下面这样做："
      ]
    },
    {
      "cell_type": "code",
      "execution_count": null,
      "metadata": {},
      "outputs": [],
      "source": [
        "nums = [1, 2, 3, 4, 5]\n",
        "s = sum(x * x for x in nums)"
      ]
    },
    {
      "cell_type": "markdown",
      "metadata": {},
      "source": [
        "下面是更多的例子："
      ]
    },
    {
      "cell_type": "code",
      "execution_count": 9,
      "metadata": {},
      "outputs": [
        {
          "name": "stdout",
          "output_type": "stream",
          "text": [
            "ACME,50,123.45\n",
            "20\n"
          ]
        }
      ],
      "source": [
        "# Determine if any .py files exist in a directory\n",
        "# import os\n",
        "# files = os.listdir('dirname')\n",
        "# if any(name.endswith('.py') for name in files):\n",
        "#     print('There be python!')\n",
        "# else:\n",
        "#     print('Sorry, no python.')\n",
        "# Output a tuple as CSV\n",
        "s = ('ACME', 50, 123.45)\n",
        "print(','.join(str(x) for x in s))\n",
        "# Data reduction across fields of a data structure\n",
        "portfolio = [\n",
        "    {'name':'GOOG', 'shares': 50},\n",
        "    {'name':'YHOO', 'shares': 75},\n",
        "    {'name':'AOL', 'shares': 20},\n",
        "    {'name':'SCOX', 'shares': 65}\n",
        "]\n",
        "min_shares = min(s['shares'] for s in portfolio)\n",
        "print(min_shares)"
      ]
    },
    {
      "cell_type": "markdown",
      "metadata": {},
      "source": [
        "### 讨论\n"
      ]
    },
    {
      "cell_type": "markdown",
      "metadata": {},
      "source": [
        "上面的示例向你演示了当生成器表达式作为一个单独参数传递给函数时候的巧妙语法（你并不需要多加一个括号）。\n",
        "比如，下面这些语句是等效的："
      ]
    },
    {
      "cell_type": "code",
      "execution_count": null,
      "metadata": {},
      "outputs": [],
      "source": [
        "s = sum((x * x for x in nums)) # 显式的传递一个生成器表达式对象\n",
        "s = sum(x * x for x in nums) # 更加优雅的实现方式，省略了括号"
      ]
    },
    {
      "cell_type": "markdown",
      "metadata": {},
      "source": [
        "使用一个生成器表达式作为参数会比先创建一个临时列表更加高效和优雅。\n",
        "比如，如果你不使用生成器表达式的话，你可能会考虑使用下面的实现方式："
      ]
    },
    {
      "cell_type": "code",
      "execution_count": 7,
      "metadata": {},
      "outputs": [
        {
          "name": "stdout",
          "output_type": "stream",
          "text": [
            "55\n"
          ]
        }
      ],
      "source": [
        "nums = [1, 2, 3, 4, 5]\n",
        "s = sum([x * x for x in nums])\n",
        "print(s)"
      ]
    },
    {
      "cell_type": "markdown",
      "metadata": {},
      "source": [
        "这种方式同样可以达到想要的效果，但是它会多一个步骤，先创建一个额外的列表。\n",
        "对于小型列表可能没什么关系，但是如果元素数量非常大的时候，\n",
        "它会创建一个巨大的仅仅被使用一次就被丢弃的临时数据结构。而生成器方案会以迭代的方式转换数据，因此更省内存。"
      ]
    },
    {
      "cell_type": "markdown",
      "metadata": {},
      "source": [
        "在使用一些聚集函数比如 min() 和 max() 的时候你可能更加倾向于使用生成器版本，\n",
        "它们接受的一个 key 关键字参数或许对你很有帮助。\n",
        "比如，在上面的证券例子中，你可能会考虑下面的实现版本："
      ]
    },
    {
      "cell_type": "code",
      "execution_count": 13,
      "metadata": {},
      "outputs": [
        {
          "name": "stdout",
          "output_type": "stream",
          "text": [
            "20\n",
            "{'name': 'AOL', 'shares': 20}\n"
          ]
        }
      ],
      "source": [
        "# Original: Returns 20\n",
        "min_shares = min(s['shares'] for s in portfolio)\n",
        "print(min_shares)\n",
        "# Alternative: Returns {'name': 'AOL', 'shares': 20}\n",
        "min_shares = min(portfolio, key=lambda s: s['shares'])\n",
        "print(min_shares)"
      ]
    }
  ],
  "metadata": {
    "kernelspec": {
      "display_name": "Python 3",
      "language": "python",
      "name": "python3"
    },
    "language_info": {
      "codemirror_mode": {
        "name": "ipython",
        "version": 3
      },
      "file_extension": ".py",
      "mimetype": "text/x-python",
      "name": "python",
      "nbconvert_exporter": "python",
      "pygments_lexer": "ipython3",
      "version": "3.11.5"
    },
    "toc": {
      "base_numbering": 1,
      "nav_menu": {},
      "number_sections": true,
      "sideBar": true,
      "skip_h1_title": true,
      "title_cell": "Table of Contents",
      "title_sidebar": "Contents",
      "toc_cell": false,
      "toc_position": {},
      "toc_section_display": true,
      "toc_window_display": true
    }
  },
  "nbformat": 4,
  "nbformat_minor": 2
}
