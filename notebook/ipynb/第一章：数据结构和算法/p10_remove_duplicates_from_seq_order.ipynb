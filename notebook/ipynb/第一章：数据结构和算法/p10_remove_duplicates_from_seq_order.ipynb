{
  "cells": [
    {
      "cell_type": "markdown",
      "metadata": {},
      "source": [
        "## 1.10 删除序列相同元素并保持顺序\n"
      ]
    },
    {
      "cell_type": "markdown",
      "metadata": {},
      "source": [
        "### 问题\n"
      ]
    },
    {
      "cell_type": "markdown",
      "metadata": {},
      "source": [
        "怎样在一个序列上面保持元素顺序的同时消除重复的值？"
      ]
    },
    {
      "cell_type": "markdown",
      "metadata": {},
      "source": [
        "### 解决方案\n",
        "\n",
        "notice:\n",
        "\n",
        "什么是hashable：https://blog.csdn.net/qq_17753903/article/details/85345996  (hashable ≈ immutable     可哈希 ≈ 不可变)\n",
        "\n",
        "set解释：https://www.runoob.com/python3/python3-set.html"
      ]
    },
    {
      "cell_type": "markdown",
      "metadata": {},
      "source": [
        "如果序列上的值都是 hashable 类型，那么可以很简单的利用集合或者生成器来解决这个问题。比如："
      ]
    },
    {
      "cell_type": "code",
      "execution_count": 61,
      "metadata": {},
      "outputs": [],
      "source": [
        "def dedupe(items):\n",
        "    seen = set()\n",
        "    for item in items:\n",
        "        if item not in seen:\n",
        "            # print(item)\n",
        "            yield item  # 其实是为了让函数可遍历\n",
        "            seen.add(item)"
      ]
    },
    {
      "cell_type": "markdown",
      "metadata": {},
      "source": [
        "下面是使用上述函数的例子："
      ]
    },
    {
      "cell_type": "code",
      "execution_count": 62,
      "metadata": {},
      "outputs": [
        {
          "name": "stdout",
          "output_type": "stream",
          "text": [
            "1\n",
            "5\n",
            "2\n",
            "9\n",
            "10\n"
          ]
        }
      ],
      "source": [
        "a = [1, 5, 2, 1, 9, 1, 5, 10]\n",
        "list(dedupe(a))\n",
        "\n",
        "# 可遍历\n",
        "for item in dedupe(a):\n",
        "    print(item)"
      ]
    },
    {
      "cell_type": "markdown",
      "metadata": {},
      "source": [
        "dict类型： https://www.runoob.com/python/python-dictionary.html\n",
        "\n",
        "这个方法仅仅在序列中元素为 hashable 的时候才管用。\n",
        "如果你想消除元素不可哈希（比如 dict 类型）的序列中重复元素的话，你需要将上述代码稍微改变一下，就像这样：\n"
      ]
    },
    {
      "cell_type": "code",
      "execution_count": null,
      "metadata": {},
      "outputs": [],
      "source": [
        "def dedupe(items, key=None):\n",
        "    seen = set()\n",
        "    for item in items:\n",
        "        val = item if key is None else key(item)  # 调用lambda 返回一个元组\n",
        "        print(val)  # 只是拿元组做判断\n",
        "        if val not in seen:  # 去重\n",
        "            # 因为返回了 item\n",
        "            yield item\n",
        "            seen.add(val)\n",
        "    print(seen)"
      ]
    },
    {
      "cell_type": "markdown",
      "metadata": {},
      "source": [
        "这里的key参数指定了一个函数，将序列元素转换成 hashable 类型。下面是它的用法示例："
      ]
    },
    {
      "cell_type": "code",
      "execution_count": null,
      "metadata": {},
      "outputs": [],
      "source": [
        "a = [ {'x':1, 'y':2}, {'x':1, 'y':3}, {'x':1, 'y':2}, {'x':2, 'y':4}]\n",
        "list(dedupe(a, key=lambda d: (d['x'],d['y'])))\n",
        "\n",
        "# print(dedupe(a, key=lambda d: (d['x'], d['y'])))\n",
        "\n",
        "# list({(2, 4), (1, 2), (1, 3)})"
      ]
    },
    {
      "cell_type": "code",
      "execution_count": null,
      "metadata": {},
      "outputs": [],
      "source": [
        "list(dedupe(a, key=lambda d: d['x']))"
      ]
    },
    {
      "cell_type": "markdown",
      "metadata": {},
      "source": [
        "如果你想基于单个字段、属性或者某个更大的数据结构来消除重复元素，第二种方案同样可以胜任。"
      ]
    },
    {
      "cell_type": "markdown",
      "metadata": {},
      "source": [
        "### 讨论\n"
      ]
    },
    {
      "cell_type": "markdown",
      "metadata": {},
      "source": [
        "如果你仅仅就是想消除重复元素，通常可以简单的构造一个集合。比如："
      ]
    },
    {
      "cell_type": "code",
      "execution_count": null,
      "metadata": {},
      "outputs": [],
      "source": [
        "a = [1, 5, 2, 1, 9, 1, 5, 10]"
      ]
    },
    {
      "cell_type": "code",
      "execution_count": null,
      "metadata": {},
      "outputs": [],
      "source": [
        "set(a)"
      ]
    },
    {
      "cell_type": "markdown",
      "metadata": {},
      "source": [
        "然而，这种方法不能维护元素的顺序，生成的结果中的元素位置被打乱。而上面的方法可以避免这种情况。"
      ]
    },
    {
      "cell_type": "markdown",
      "metadata": {},
      "source": [
        "在本节中我们使用了生成器函数让我们的函数更加通用，不仅仅是局限于列表处理。\n",
        "比如，如果如果你想读取一个文件，消除重复行，你可以很容易像这样做：\n",
        "\n",
        "notice：字符串是可哈希的 也就是不可变的 因此 可以不传第二个参数"
      ]
    },
    {
      "cell_type": "code",
      "execution_count": null,
      "metadata": {},
      "outputs": [],
      "source": [
        "with open(somefile,'r') as f:\n",
        "for line in dedupe(f):\n",
        "    ..."
      ]
    },
    {
      "cell_type": "markdown",
      "metadata": {},
      "source": [
        "上述key函数参数模仿了 sorted() , min() 和 max() 等内置函数的相似功能。\n",
        "可以参考 1.8 和 1.13 小节了解更多。"
      ]
    }
  ],
  "metadata": {
    "kernelspec": {
      "display_name": "Python 3",
      "language": "python",
      "name": "python3"
    },
    "language_info": {
      "codemirror_mode": {
        "name": "ipython",
        "version": 3
      },
      "file_extension": ".py",
      "mimetype": "text/x-python",
      "name": "python",
      "nbconvert_exporter": "python",
      "pygments_lexer": "ipython3",
      "version": "3.11.5"
    },
    "toc": {
      "base_numbering": 1,
      "nav_menu": {},
      "number_sections": true,
      "sideBar": true,
      "skip_h1_title": true,
      "title_cell": "Table of Contents",
      "title_sidebar": "Contents",
      "toc_cell": false,
      "toc_position": {},
      "toc_section_display": true,
      "toc_window_display": true
    }
  },
  "nbformat": 4,
  "nbformat_minor": 2
}
