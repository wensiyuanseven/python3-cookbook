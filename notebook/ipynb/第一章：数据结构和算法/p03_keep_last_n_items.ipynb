{
  "cells": [
    {
      "cell_type": "markdown",
      "metadata": {},
      "source": [
        "## 1.3 保留最后 N 个元素\n"
      ]
    },
    {
      "cell_type": "markdown",
      "metadata": {},
      "source": [
        "### 问题\n"
      ]
    },
    {
      "cell_type": "markdown",
      "metadata": {},
      "source": [
        "在迭代操作或者其他操作的时候，怎样只保留最后有限几个元素的历史记录？"
      ]
    },
    {
      "cell_type": "markdown",
      "metadata": {},
      "source": [
        "解决方案\n"
      ]
    },
    {
      "cell_type": "markdown",
      "metadata": {},
      "source": [
        "保留有限历史记录正是 collections.deque 大显身手的时候。比如，下面的代码在多行上面做简单的文本匹配，\n",
        "并返回匹配所在行的最后N行："
      ]
    },
    {
      "cell_type": "code",
      "execution_count": 10,
      "metadata": {},
      "outputs": [
        {
          "name": "stdout",
          "output_type": "stream",
          "text": [
            "deque([2, 3, 4, 788], maxlen=4)\n"
          ]
        }
      ],
      "source": [
        "from collections import deque\n",
        "d = deque([1, 2, 3, 4, 788], maxlen=4)\n",
        "# 初始化deque的时候可以给他传一个参数maxlen，\n",
        "# 如果deque中的元素超过maxlen的值，那么就会从deque中的一边去删除元素，也就是deque始终保持maxlen最大长度的元素，如果超过了就会自动把以前的元素弹出(删除)\n",
        "print(d)"
      ]
    },
    {
      "cell_type": "code",
      "execution_count": 5,
      "metadata": {},
      "outputs": [
        {
          "name": "stdout",
          "output_type": "stream",
          "text": [
            "__main__\n",
            "deque([], maxlen=5)\n"
          ]
        }
      ],
      "source": [
        "from collections import deque\n",
        "\n",
        "def search(lines, pattern, history=5):\n",
        "    previous_lines = deque(maxlen=history) \n",
        "    print(previous_lines) #\n",
        "    for line in lines:\n",
        "        if pattern in line:\n",
        "            yield line, previous_lines\n",
        "        previous_lines.append(line)\n",
        "\n",
        "\n",
        "print(__name__)\n",
        "# Example use on a file\n",
        "if __name__ == '__main__':\n",
        "    with open(r'/Users/liushali/前端_code/python3/python3-cookbook/cookbook/somefile.txt') as f:\n",
        "        for line, prevlines in search(f, 'python', 5):\n",
        "            for pline in prevlines:\n",
        "                print(pline, end='')\n",
        "            print(line, end='')\n",
        "            print('-' * 20)"
      ]
    },
    {
      "cell_type": "markdown",
      "metadata": {},
      "source": [
        "### 讨论\n"
      ]
    },
    {
      "cell_type": "markdown",
      "metadata": {},
      "source": [
        "我们在写查询元素的代码时，通常会使用包含 yield 表达式的生成器函数，也就是我们上面示例代码中的那样。\n",
        "这样可以将搜索过程代码和使用搜索结果代码解耦。如果你还不清楚什么是生成器，请参看 4.3 节。"
      ]
    },
    {
      "cell_type": "markdown",
      "metadata": {},
      "source": [
        "使用 deque(maxlen=N) 构造函数会新建一个固定大小的队列。当新的元素加入并且这个队列已满的时候，\n",
        "最老的元素会自动被移除掉。"
      ]
    },
    {
      "cell_type": "markdown",
      "metadata": {},
      "source": [
        "代码示例："
      ]
    },
    {
      "cell_type": "code",
      "execution_count": 11,
      "metadata": {},
      "outputs": [
        {
          "data": {
            "text/plain": [
              "deque([1, 2, 3], maxlen=3)"
            ]
          },
          "execution_count": 11,
          "metadata": {},
          "output_type": "execute_result"
        }
      ],
      "source": [
        "q = deque(maxlen=3)\n",
        "q.append(1)\n",
        "q.append(2)\n",
        "q.append(3)\n",
        "q"
      ]
    },
    {
      "cell_type": "code",
      "execution_count": 12,
      "metadata": {},
      "outputs": [
        {
          "data": {
            "text/plain": [
              "deque([2, 3, 4], maxlen=3)"
            ]
          },
          "execution_count": 12,
          "metadata": {},
          "output_type": "execute_result"
        }
      ],
      "source": [
        "q.append(4)\n",
        "q"
      ]
    },
    {
      "cell_type": "code",
      "execution_count": null,
      "metadata": {},
      "outputs": [],
      "source": [
        "q.append(5)\n",
        "q"
      ]
    },
    {
      "cell_type": "markdown",
      "metadata": {},
      "source": [
        "尽管你也可以手动在一个列表上实现这一的操作（比如增加、删除等等）。但是这里的队列方案会更加优雅并且运行得更快些。"
      ]
    },
    {
      "cell_type": "markdown",
      "metadata": {},
      "source": [
        "更一般的， deque 类可以被用在任何你只需要一个简单队列数据结构的场合。\n",
        "如果你不设置最大队列大小，那么就会得到一个无限大小队列，你可以在队列的两端执行添加和弹出元素的操作。"
      ]
    },
    {
      "cell_type": "markdown",
      "metadata": {},
      "source": [
        "代码示例："
      ]
    },
    {
      "cell_type": "code",
      "execution_count": 13,
      "metadata": {},
      "outputs": [
        {
          "data": {
            "text/plain": [
              "deque([1, 2, 3])"
            ]
          },
          "execution_count": 13,
          "metadata": {},
          "output_type": "execute_result"
        }
      ],
      "source": [
        "q = deque()\n",
        "q.append(1)\n",
        "q.append(2)\n",
        "q.append(3)\n",
        "q"
      ]
    },
    {
      "cell_type": "code",
      "execution_count": 14,
      "metadata": {},
      "outputs": [
        {
          "data": {
            "text/plain": [
              "deque([4, 1, 2, 3])"
            ]
          },
          "execution_count": 14,
          "metadata": {},
          "output_type": "execute_result"
        }
      ],
      "source": [
        "q.appendleft(4)\n",
        "q"
      ]
    },
    {
      "cell_type": "code",
      "execution_count": 15,
      "metadata": {},
      "outputs": [
        {
          "data": {
            "text/plain": [
              "3"
            ]
          },
          "execution_count": 15,
          "metadata": {},
          "output_type": "execute_result"
        }
      ],
      "source": [
        "q.pop()"
      ]
    },
    {
      "cell_type": "code",
      "execution_count": 16,
      "metadata": {},
      "outputs": [
        {
          "data": {
            "text/plain": [
              "deque([4, 1, 2])"
            ]
          },
          "execution_count": 16,
          "metadata": {},
          "output_type": "execute_result"
        }
      ],
      "source": [
        "q"
      ]
    },
    {
      "cell_type": "code",
      "execution_count": 17,
      "metadata": {},
      "outputs": [
        {
          "data": {
            "text/plain": [
              "4"
            ]
          },
          "execution_count": 17,
          "metadata": {},
          "output_type": "execute_result"
        }
      ],
      "source": [
        "q.popleft()"
      ]
    },
    {
      "cell_type": "markdown",
      "metadata": {},
      "source": [
        "在队列两端插入或删除元素时间复杂度都是 O(1) ，区别于列表，在列表的开头插入或删除元素的时间复杂度为 O(N) 。"
      ]
    }
  ],
  "metadata": {
    "kernelspec": {
      "display_name": "Python 3",
      "language": "python",
      "name": "python3"
    },
    "language_info": {
      "codemirror_mode": {
        "name": "ipython",
        "version": 3
      },
      "file_extension": ".py",
      "mimetype": "text/x-python",
      "name": "python",
      "nbconvert_exporter": "python",
      "pygments_lexer": "ipython3",
      "version": "3.11.5"
    },
    "toc": {
      "base_numbering": 1,
      "nav_menu": {},
      "number_sections": true,
      "sideBar": true,
      "skip_h1_title": true,
      "title_cell": "Table of Contents",
      "title_sidebar": "Contents",
      "toc_cell": false,
      "toc_position": {},
      "toc_section_display": true,
      "toc_window_display": true
    }
  },
  "nbformat": 4,
  "nbformat_minor": 2
}
