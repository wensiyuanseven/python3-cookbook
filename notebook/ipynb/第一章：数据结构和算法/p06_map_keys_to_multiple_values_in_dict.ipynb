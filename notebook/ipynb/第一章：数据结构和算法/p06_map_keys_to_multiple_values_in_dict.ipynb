{
  "cells": [
    {
      "cell_type": "markdown",
      "metadata": {},
      "source": [
        "## 1.6 字典中的键映射多个值\n"
      ]
    },
    {
      "cell_type": "markdown",
      "metadata": {},
      "source": [
        "### 问题\n"
      ]
    },
    {
      "cell_type": "markdown",
      "metadata": {},
      "source": [
        "怎样实现一个键对应多个值的字典（也叫 multidict）？"
      ]
    },
    {
      "cell_type": "markdown",
      "metadata": {},
      "source": [
        "### 解决方案\n"
      ]
    },
    {
      "cell_type": "markdown",
      "metadata": {},
      "source": [
        "一个字典就是一个键对应一个单值的映射。如果你想要一个键映射多个值，那么你就需要将这多个值放到另外的容器中，\n",
        "比如列表或者集合里面。比如，你可以像下面这样构造这样的字典："
      ]
    },
    {
      "cell_type": "code",
      "execution_count": 2,
      "metadata": {},
      "outputs": [],
      "source": [
        "d = {\n",
        "    'a' : [1, 2, 3],\n",
        "    'b' : [4, 5]\n",
        "}\n",
        "e = {\n",
        "    'a' : {1, 2, 3},\n",
        "    'b' : {4, 5}\n",
        "}"
      ]
    },
    {
      "cell_type": "markdown",
      "metadata": {},
      "source": [
        "选择使用列表还是集合取决于你的实际需求。如果你想保持元素的插入顺序就应该使用列表，\n",
        "如果想去掉重复元素就使用集合（并且不关心元素的顺序问题）。"
      ]
    },
    {
      "cell_type": "markdown",
      "metadata": {},
      "source": [
        "你可以很方便的使用 collections 模块中的 defaultdict 来构造这样的字典。\n",
        "defaultdict 的一个特征是它会自动初始化每个 key 刚开始对应的值，所以你只需要关注添加元素操作了。比如："
      ]
    },
    {
      "cell_type": "code",
      "execution_count": 8,
      "metadata": {},
      "outputs": [
        {
          "name": "stdout",
          "output_type": "stream",
          "text": [
            "defaultdict(<class 'list'>, {'a': [1, 2], 'b': [4], 'd': []})\n",
            "defaultdict(<class 'set'>, {'a': {1, 2}, 'b': {4}})\n"
          ]
        }
      ],
      "source": [
        "from collections import defaultdict\n",
        "\n",
        "d = defaultdict(list)\n",
        "d['a'].append(1)\n",
        "d['a'].append(2)\n",
        "d['b'].append(4)\n",
        "d['d']  #也会创建映射实体\n",
        "print(d)\n",
        "\n",
        "d = defaultdict(set)\n",
        "d['a'].add(1)\n",
        "d['a'].add(2)\n",
        "d['b'].add(4)\n",
        "\n",
        "print(d)"
      ]
    },
    {
      "cell_type": "markdown",
      "metadata": {},
      "source": [
        "需要注意的是， defaultdict 会自动为将要访问的键（就算目前字典中并不存在这样的键）创建映射实体。\n",
        "如果你并不需要这样的特性，你可以在一个普通的字典上使用 setdefault() 方法来代替。比如："
      ]
    },
    {
      "cell_type": "code",
      "execution_count": 7,
      "metadata": {},
      "outputs": [
        {
          "name": "stdout",
          "output_type": "stream",
          "text": [
            "{'a': [1, 2], 'b': [4]}\n"
          ]
        }
      ],
      "source": [
        "d = {} # 一个普通的字典\n",
        "d.setdefault('a', []).append(1)\n",
        "d.setdefault('a', []).append(2)\n",
        "d.setdefault('b', []).append(4)\n",
        "print(d)"
      ]
    },
    {
      "cell_type": "markdown",
      "metadata": {},
      "source": [
        "但是很多程序员觉得 setdefault() 用起来有点别扭。因为每次调用都得创建一个新的初始值的实例（例子程序中的空列表 [] ）。"
      ]
    },
    {
      "cell_type": "markdown",
      "metadata": {},
      "source": [
        "### 讨论\n"
      ]
    },
    {
      "cell_type": "markdown",
      "metadata": {},
      "source": [
        "一般来讲，创建一个多值映射字典是很简单的。但是，如果你选择自己实现的话，那么对于值的初始化可能会有点麻烦，\n",
        "你可能会像下面这样来实现："
      ]
    },
    {
      "cell_type": "code",
      "execution_count": 24,
      "metadata": {},
      "outputs": [
        {
          "name": "stdout",
          "output_type": "stream",
          "text": [
            "{'a': ['1'], 'b': ['2'], 'c': ['11111', '456']}\n"
          ]
        }
      ],
      "source": [
        "d = {}\n",
        "pairs = [('a', '1'), ('b', '2'), ('c', '11111'), ('c', '456')] \n",
        "for key, value in pairs:\n",
        "    if key not in d:\n",
        "        d[key] = []\n",
        "    d[key].append(value)\n",
        "print(d)"
      ]
    },
    {
      "cell_type": "markdown",
      "metadata": {},
      "source": [
        "如果使用 defaultdict 的话代码就更加简洁了："
      ]
    },
    {
      "cell_type": "code",
      "execution_count": 26,
      "metadata": {},
      "outputs": [
        {
          "name": "stdout",
          "output_type": "stream",
          "text": [
            "defaultdict(<class 'list'>, {'a': ['1'], 'b': ['2'], 'c': ['11111', '456']})\n"
          ]
        }
      ],
      "source": [
        "d = defaultdict(list)\n",
        "pairs = [('a', '1'), ('b', '2'), ('c', '11111'), ('c', '456')]\n",
        "for key, value in pairs:\n",
        "    d[key].append(value)\n",
        "print(d)"
      ]
    },
    {
      "cell_type": "markdown",
      "metadata": {},
      "source": [
        "这一小节所讨论的问题跟数据处理中的记录归类问题有大的关联。可以参考 1.15 小节的例子。"
      ]
    }
  ],
  "metadata": {
    "kernelspec": {
      "display_name": "Python 3",
      "language": "python",
      "name": "python3"
    },
    "language_info": {
      "codemirror_mode": {
        "name": "ipython",
        "version": 3
      },
      "file_extension": ".py",
      "mimetype": "text/x-python",
      "name": "python",
      "nbconvert_exporter": "python",
      "pygments_lexer": "ipython3",
      "version": "3.11.5"
    },
    "toc": {
      "base_numbering": 1,
      "nav_menu": {},
      "number_sections": true,
      "sideBar": true,
      "skip_h1_title": true,
      "title_cell": "Table of Contents",
      "title_sidebar": "Contents",
      "toc_cell": false,
      "toc_position": {},
      "toc_section_display": true,
      "toc_window_display": true
    }
  },
  "nbformat": 4,
  "nbformat_minor": 2
}
