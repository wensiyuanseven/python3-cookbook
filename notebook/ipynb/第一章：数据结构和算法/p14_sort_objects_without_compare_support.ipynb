{
  "cells": [
    {
      "cell_type": "markdown",
      "metadata": {},
      "source": [
        "## 1.14 排序不支持原生比较的对象\n"
      ]
    },
    {
      "cell_type": "markdown",
      "metadata": {},
      "source": [
        "### 问题\n"
      ]
    },
    {
      "cell_type": "markdown",
      "metadata": {},
      "source": [
        "你想排序类型相同的对象，但是他们不支持原生的比较操作。"
      ]
    },
    {
      "cell_type": "markdown",
      "metadata": {},
      "source": [
        "### 解决方案\n"
      ]
    },
    {
      "cell_type": "markdown",
      "metadata": {},
      "source": [
        "内置的 sorted() 函数有一个关键字参数 key ，可以传入一个 callable 对象给它，\n",
        "这个 callable 对象对每个传入的对象返回一个值，这个值会被 sorted 用来排序这些对象。\n",
        "比如，如果你在应用程序里面有一个 User 实例序列，并且你希望通过他们的 user_id 属性进行排序，\n",
        "你可以提供一个以 User 实例作为输入并输出对应 user_id 值的 callable 对象。比如："
      ]
    },
    {
      "cell_type": "code",
      "execution_count": 6,
      "metadata": {},
      "outputs": [
        {
          "name": "stdout",
          "output_type": "stream",
          "text": [
            "[User(23), User(3), User(99)]\n",
            "[User(3), User(23), User(99)]\n",
            "User(23) 23\n",
            "User(3) 3\n",
            "User(99) 99\n",
            "[User(3), User(23), User(99)]\n"
          ]
        }
      ],
      "source": [
        "class User:\n",
        "    def __init__(self, user_id):\n",
        "        self.user_id = user_id\n",
        "\n",
        "    def __repr__(self):\n",
        "        return 'User({})'.format(self.user_id)\n",
        "\n",
        "\n",
        "def sortFun(u):\n",
        "    print(u, u.user_id)\n",
        "    return u.user_id\n",
        "\n",
        "\n",
        "def sort_notcompare():\n",
        "    users = [User(23), User(3), User(99)]\n",
        "    print(users)\n",
        "    print(sorted(users, key=lambda u: u.user_id))\n",
        "    # 同下\n",
        "    print(sorted(users, key=sortFun))\n",
        "\n",
        "\n",
        "sort_notcompare()"
      ]
    },
    {
      "cell_type": "markdown",
      "metadata": {},
      "source": [
        "另外一种方式是使用 operator.attrgetter() 来代替 lambda 函数：\n",
        "\n",
        "attrgetter(attr)`: 返回一个函数，用于获取对象中的属性值"
      ]
    },
    {
      "cell_type": "code",
      "execution_count": null,
      "metadata": {},
      "outputs": [],
      "source": [
        "from operator import attrgetter\n",
        "sorted(users, key=attrgetter('user_id'))"
      ]
    },
    {
      "cell_type": "markdown",
      "metadata": {},
      "source": [
        "### 讨论\n"
      ]
    },
    {
      "cell_type": "markdown",
      "metadata": {},
      "source": [
        "选择使用 lambda 函数或者是 attrgetter() 可能取决于个人喜好。\n",
        "但是， attrgetter() 函数通常会运行的快点，并且还能同时允许多个字段进行比较。\n",
        "这个跟 operator.itemgetter() 函数作用于字典类型很类似（参考1.13小节）。\n",
        "例如，如果 User 实例还有一个 first_name 和 last_name 属性，那么可以向下面这样排序："
      ]
    },
    {
      "cell_type": "code",
      "execution_count": null,
      "metadata": {},
      "outputs": [],
      "source": [
        "by_name = sorted(users, key=attrgetter('last_name', 'first_name'))"
      ]
    },
    {
      "cell_type": "markdown",
      "metadata": {},
      "source": [
        "同样需要注意的是，这一小节用到的技术同样适用于像 min() 和 max() 之类的函数。比如："
      ]
    },
    {
      "cell_type": "code",
      "execution_count": null,
      "metadata": {},
      "outputs": [],
      "source": [
        "min(users, key=attrgetter('user_id'))"
      ]
    },
    {
      "cell_type": "code",
      "execution_count": null,
      "metadata": {},
      "outputs": [],
      "source": [
        "max(users, key=attrgetter('user_id'))"
      ]
    }
  ],
  "metadata": {
    "kernelspec": {
      "display_name": "Python 3",
      "language": "python",
      "name": "python3"
    },
    "language_info": {
      "codemirror_mode": {
        "name": "ipython",
        "version": 3
      },
      "file_extension": ".py",
      "mimetype": "text/x-python",
      "name": "python",
      "nbconvert_exporter": "python",
      "pygments_lexer": "ipython3",
      "version": "3.11.5"
    },
    "toc": {
      "base_numbering": 1,
      "nav_menu": {},
      "number_sections": true,
      "sideBar": true,
      "skip_h1_title": true,
      "title_cell": "Table of Contents",
      "title_sidebar": "Contents",
      "toc_cell": false,
      "toc_position": {},
      "toc_section_display": true,
      "toc_window_display": true
    }
  },
  "nbformat": 4,
  "nbformat_minor": 2
}
