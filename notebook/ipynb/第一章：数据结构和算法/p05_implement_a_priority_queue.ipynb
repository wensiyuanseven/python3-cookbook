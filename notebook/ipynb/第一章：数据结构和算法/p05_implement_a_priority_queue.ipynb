{
  "cells": [
    {
      "cell_type": "markdown",
      "metadata": {},
      "source": [
        "## 1.5 实现一个优先级队列\n"
      ]
    },
    {
      "cell_type": "markdown",
      "metadata": {},
      "source": [
        "### 问题\n"
      ]
    },
    {
      "cell_type": "markdown",
      "metadata": {},
      "source": [
        "怎样实现一个按优先级排序的队列？ 并且在这个队列上面每次 pop 操作总是返回优先级最高的那个元素"
      ]
    },
    {
      "cell_type": "markdown",
      "metadata": {},
      "source": [
        "参考：https://www.jianshu.com/p/9d0287109b90"
      ]
    },
    {
      "cell_type": "markdown",
      "metadata": {},
      "source": [
        "### 解决方案\n"
      ]
    },
    {
      "cell_type": "markdown",
      "metadata": {},
      "source": [
        "下面的类利用 heapq 模块实现了一个简单的优先级队列："
      ]
    },
    {
      "cell_type": "code",
      "execution_count": 19,
      "metadata": {},
      "outputs": [],
      "source": [
        "import heapq\n",
        "\n",
        "class PriorityQueue:\n",
        "    def __init__(self):\n",
        "        self._queue = []\n",
        "        self._index = 0\n",
        "\n",
        "    def push(self, item, priority):\n",
        "        heapq.heappush(self._queue, (-priority, self._index, item))  # 括号里面是元组   [(-5, 1, Item('bar')), (-1, 0, Item('foo')), (-4, 2, Item('spam')), (-1, 3, Item('grok'))]\n",
        "        self._index += 1\n",
        "\n",
        "    def pop(self):\n",
        "        return heapq.heappop(self._queue)[-1]  # heapq.heappop(lst)：从列表 lst 中弹出最小的元素，并保持 lst 始终为一个堆    [-1] 意思是从元组里面拿最后一项 也是就是 (-5, 1, Item('bar'))[-1]  ==> Item('bar')"
      ]
    },
    {
      "cell_type": "markdown",
      "metadata": {},
      "source": [
        "下面是它的使用方式："
      ]
    },
    {
      "cell_type": "code",
      "execution_count": 20,
      "metadata": {},
      "outputs": [
        {
          "name": "stdout",
          "output_type": "stream",
          "text": [
            "Item('bar')\n"
          ]
        },
        {
          "data": {
            "text/plain": [
              "Item('spam')"
            ]
          },
          "execution_count": 20,
          "metadata": {},
          "output_type": "execute_result"
        }
      ],
      "source": [
        "class Item:\n",
        "    def __init__(self, name):\n",
        "        self.name = name\n",
        "    def __repr__(self): #打印类时调用\n",
        "        return 'Item({!r})'.format(self.name)\n",
        "q = PriorityQueue() #初始化\n",
        "q.push(Item('foo'), 1)\n",
        "q.push(Item('bar'), 5)\n",
        "q.push(Item('spam'), 4)\n",
        "q.push(Item('grok'), 1)\n",
        "print(q._queue)\n",
        "q.pop()\n",
        "print(q._queue)"
      ]
    },
    {
      "cell_type": "code",
      "execution_count": 14,
      "metadata": {},
      "outputs": [
        {
          "name": "stdout",
          "output_type": "stream",
          "text": [
            "[(-1, 0, Item('foo')), (-1, 3, Item('grok'))]\n"
          ]
        }
      ],
      "source": [
        "q.pop()\n",
        "print(q._queue)"
      ]
    },
    {
      "cell_type": "code",
      "execution_count": 15,
      "metadata": {},
      "outputs": [
        {
          "name": "stdout",
          "output_type": "stream",
          "text": [
            "[(-1, 3, Item('grok'))]\n"
          ]
        }
      ],
      "source": [
        "q.pop()\n",
        "print(q._queue)"
      ]
    },
    {
      "cell_type": "code",
      "execution_count": null,
      "metadata": {},
      "outputs": [],
      "source": [
        "q.pop()\n",
        "print(q._queue)"
      ]
    },
    {
      "cell_type": "markdown",
      "metadata": {},
      "source": [
        "仔细观察可以发现，第一个 pop() 操作返回优先级最高的元素。\n",
        "另外注意到如果两个有着相同优先级的元素（ foo 和 grok ），pop 操作按照它们被插入到队列的顺序返回的。"
      ]
    },
    {
      "cell_type": "markdown",
      "metadata": {},
      "source": [
        "### 讨论\n"
      ]
    },
    {
      "cell_type": "markdown",
      "metadata": {},
      "source": [
        "这一小节我们主要关注 heapq 模块的使用。\n",
        "函数 heapq.heappush() 和 heapq.heappop() 分别在队列 _queue 上插入和删除第一个元素，\n",
        "并且队列 _queue 保证第一个元素拥有最高优先级（ 1.4 节已经讨论过这个问题）。\n",
        "heappop() 函数总是返回”最小的”的元素，这就是保证队列pop操作返回正确元素的关键。\n",
        "另外，由于 push 和 pop 操作时间复杂度为 O(log N)，其中 N 是堆的大小，因此就算是 N 很大的时候它们运行速度也依旧很快。"
      ]
    },
    {
      "cell_type": "markdown",
      "metadata": {},
      "source": [
        "在上面代码中，队列包含了一个 (-priority, index, item) 的元组。\n",
        "优先级为负数的目的是使得元素按照优先级从高到低排序。\n",
        "这个跟普通的按优先级从低到高排序的堆排序恰巧相反。"
      ]
    },
    {
      "cell_type": "markdown",
      "metadata": {},
      "source": [
        "index 变量的作用是保证同等优先级元素的正确排序。\n",
        "通过保存一个不断增加的 index 下标变量，可以确保元素按照它们插入的顺序排序。\n",
        "而且， index 变量也在相同优先级元素比较的时候起到重要作用。"
      ]
    },
    {
      "cell_type": "markdown",
      "metadata": {},
      "source": [
        "为了阐明这些，先假定 Item 实例是不支持排序的："
      ]
    },
    {
      "cell_type": "code",
      "execution_count": null,
      "metadata": {},
      "outputs": [],
      "source": [
        "a = Item('foo')\n",
        "b = Item('bar')\n",
        "a < b"
      ]
    },
    {
      "cell_type": "markdown",
      "metadata": {},
      "source": [
        "如果你使用元组 (priority, item) ，只要两个元素的优先级不同就能比较。\n",
        "但是如果两个元素优先级一样的话，那么比较操作就会跟之前一样出错："
      ]
    },
    {
      "cell_type": "code",
      "execution_count": null,
      "metadata": {},
      "outputs": [],
      "source": [
        "a = (1, Item('foo'))\n",
        "b = (5, Item('bar'))\n",
        "a < b"
      ]
    },
    {
      "cell_type": "code",
      "execution_count": null,
      "metadata": {},
      "outputs": [],
      "source": [
        "c = (1, Item('grok'))\n",
        "a < c"
      ]
    },
    {
      "cell_type": "markdown",
      "metadata": {},
      "source": [
        "通过引入另外的 index 变量组成三元组 (priority, index, item) ，就能很好的避免上面的错误，\n",
        "因为不可能有两个元素有相同的 index 值。Python 在做元组比较时候，如果前面的比较已经可以确定结果了，\n",
        "后面的比较操作就不会发生了："
      ]
    },
    {
      "cell_type": "markdown",
      "metadata": {},
      "source": [
        "也就是 如果优先级一样 那么就比较索引 索引大的就大"
      ]
    },
    {
      "cell_type": "code",
      "execution_count": null,
      "metadata": {},
      "outputs": [],
      "source": [
        "a = (1, 0, Item('foo'))\n",
        "b = (5, 1, Item('bar'))\n",
        "c = (1, 2, Item('grok'))\n",
        "a < c"
      ]
    },
    {
      "cell_type": "code",
      "execution_count": null,
      "metadata": {},
      "outputs": [],
      "source": [
        "a < c"
      ]
    },
    {
      "cell_type": "markdown",
      "metadata": {},
      "source": [
        "如果你想在多个线程中使用同一个队列，那么你需要增加适当的锁和信号量机制。\n",
        "可以查看 12.3 小节的例子演示是怎样做的。"
      ]
    },
    {
      "cell_type": "markdown",
      "metadata": {},
      "source": [
        "heapq 模块的官方文档有更详细的例子程序以及对于堆理论及其实现的详细说明。"
      ]
    }
  ],
  "metadata": {
    "kernelspec": {
      "display_name": "Python 3",
      "language": "python",
      "name": "python3"
    },
    "language_info": {
      "codemirror_mode": {
        "name": "ipython",
        "version": 3
      },
      "file_extension": ".py",
      "mimetype": "text/x-python",
      "name": "python",
      "nbconvert_exporter": "python",
      "pygments_lexer": "ipython3",
      "version": "3.11.5"
    },
    "toc": {
      "base_numbering": 1,
      "nav_menu": {},
      "number_sections": true,
      "sideBar": true,
      "skip_h1_title": true,
      "title_cell": "Table of Contents",
      "title_sidebar": "Contents",
      "toc_cell": false,
      "toc_position": {},
      "toc_section_display": true,
      "toc_window_display": true
    }
  },
  "nbformat": 4,
  "nbformat_minor": 2
}
