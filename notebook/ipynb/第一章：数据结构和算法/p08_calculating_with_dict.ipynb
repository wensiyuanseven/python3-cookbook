{
  "cells": [
    {
      "cell_type": "markdown",
      "metadata": {},
      "source": [
        "## 1.8 字典的运算\n"
      ]
    },
    {
      "cell_type": "markdown",
      "metadata": {},
      "source": [
        "### 问题\n"
      ]
    },
    {
      "cell_type": "markdown",
      "metadata": {},
      "source": [
        "怎样在数据字典中执行一些计算操作（比如求最小值、最大值、排序等等）？"
      ]
    },
    {
      "cell_type": "markdown",
      "metadata": {},
      "source": [
        "### 解决方案\n"
      ]
    },
    {
      "cell_type": "markdown",
      "metadata": {},
      "source": [
        "考虑下面的股票名和价格映射字典："
      ]
    },
    {
      "cell_type": "code",
      "execution_count": 24,
      "metadata": {},
      "outputs": [
        {
          "name": "stdout",
          "output_type": "stream",
          "text": [
            "{'ACME': 45.23, 'AAPL': 612.78, 'IBM': 205.55, 'HPQ': 37.2, 'FB': 10.75}\n",
            "<zip object at 0x104438640>\n"
          ]
        }
      ],
      "source": [
        "prices = {\n",
        "    'ACME': 45.23,\n",
        "    'AAPL': 612.78,\n",
        "    'IBM': 205.55,\n",
        "    'HPQ': 37.20,\n",
        "    'FB': 10.75\n",
        "}\n",
        "print(prices)\n",
        "min_price = zip(prices.values(), prices.keys())\n",
        "print(min_price)"
      ]
    },
    {
      "cell_type": "markdown",
      "metadata": {},
      "source": [
        "为了对字典值执行计算操作，通常需要使用 zip() 函数先将键和值反转过来。\n",
        "比如，下面是查找最小和最大股票价格和股票值的代码："
      ]
    },
    {
      "cell_type": "code",
      "execution_count": 7,
      "metadata": {},
      "outputs": [],
      "source": [
        "min_price = min(zip(prices.values(), prices.keys()))\n",
        "# min_price is (10.75, 'FB')\n",
        "max_price = max(zip(prices.values(), prices.keys()))\n",
        "# max_price is (612.78, 'AAPL')"
      ]
    },
    {
      "cell_type": "markdown",
      "metadata": {},
      "source": [
        "类似的，可以使用 zip() 和 sorted() 函数来排列字典数据："
      ]
    },
    {
      "cell_type": "code",
      "execution_count": 8,
      "metadata": {},
      "outputs": [],
      "source": [
        "prices_sorted = sorted(zip(prices.values(), prices.keys()))\n",
        "# prices_sorted is [(10.75, 'FB'), (37.2, 'HPQ'),\n",
        "#                   (45.23, 'ACME'), (205.55, 'IBM'),\n",
        "#                   (612.78, 'AAPL')]"
      ]
    },
    {
      "cell_type": "markdown",
      "metadata": {},
      "source": [
        "执行这些计算的时候，需要注意的是 zip() 函数创建的是一个只能访问一次的迭代器。\n",
        "比如，下面的代码就会产生错误："
      ]
    },
    {
      "cell_type": "code",
      "execution_count": null,
      "metadata": {},
      "outputs": [],
      "source": [
        "prices_and_names = zip(prices.values(), prices.keys())\n",
        "print(min(prices_and_names)) # OK\n",
        "print(max(prices_and_names)) # ValueError: max() arg is an empty sequence"
      ]
    },
    {
      "cell_type": "markdown",
      "metadata": {},
      "source": [
        "### 讨论\n"
      ]
    },
    {
      "cell_type": "markdown",
      "metadata": {},
      "source": [
        "如果你在一个字典上执行普通的数学运算，你会发现它们仅仅作用于键，而不是值。比如："
      ]
    },
    {
      "cell_type": "code",
      "execution_count": 10,
      "metadata": {},
      "outputs": [
        {
          "data": {
            "text/plain": [
              "'IBM'"
            ]
          },
          "execution_count": 10,
          "metadata": {},
          "output_type": "execute_result"
        }
      ],
      "source": [
        "min(prices) # Returns 'AAPL'\n",
        "max(prices) # Returns 'IBM'"
      ]
    },
    {
      "cell_type": "markdown",
      "metadata": {},
      "source": [
        "这个结果并不是你想要的，因为你想要在字典的值集合上执行这些计算。\n",
        "或许你会尝试着使用字典的 values() 方法来解决这个问题："
      ]
    },
    {
      "cell_type": "code",
      "execution_count": 15,
      "metadata": {},
      "outputs": [
        {
          "data": {
            "text/plain": [
              "612.78"
            ]
          },
          "execution_count": 15,
          "metadata": {},
          "output_type": "execute_result"
        }
      ],
      "source": [
        "min(prices.values()) # Returns 10.75\n",
        "max(prices.values()) # Returns 612.78"
      ]
    },
    {
      "cell_type": "markdown",
      "metadata": {},
      "source": [
        "不幸的是，通常这个结果同样也不是你想要的。\n",
        "你可能还想要知道对应的键的信息（比如那种股票价格是最低的？）。"
      ]
    },
    {
      "cell_type": "markdown",
      "metadata": {},
      "source": [
        "你可以在 min() 和 max() 函数中提供 key 函数参数来获取最小值或最大值对应的键的信息。比如：\n",
        "\n",
        "min()函数使用 http://zky.name/article/52.html"
      ]
    },
    {
      "cell_type": "code",
      "execution_count": 49,
      "metadata": {},
      "outputs": [
        {
          "name": "stdout",
          "output_type": "stream",
          "text": [
            "{'ACME': 45.23, 'AAPL': 612.78, 'IBM': 205.55, 'HPQ': 37.2, 'FB': 10.75}\n",
            "ACME === 45.23\n",
            "AAPL === 612.78\n",
            "IBM === 205.55\n",
            "HPQ === 37.2\n",
            "FB === 10.75\n",
            "number\n",
            "price\n"
          ]
        },
        {
          "data": {
            "text/plain": [
              "'number'"
            ]
          },
          "execution_count": 49,
          "metadata": {},
          "output_type": "execute_result"
        }
      ],
      "source": [
        "print(prices)\n",
        "min(prices, key=lambda k: prices[k])  # Returns 'FB'   不懂这种写法 https://stackoverflow.com/questions/53343366/why-does-min-in-python-return-the-key-when-a-lambda-is-used-on-dictionaries\n",
        "max(prices, key=lambda k: prices[k])  # Returns 'AAPL'\n",
        "\n",
        "# 类似于\n",
        "\n",
        "\n",
        "def sort(k):\n",
        "    print(k, '===', prices[k])\n",
        "    return prices[k]\n",
        "\n",
        "\n",
        "max(prices, key=sort)\n",
        "\n",
        "\n",
        "\n",
        "#以多个字典中的number作为对比依据。\n",
        "def sortb(x):\n",
        "    print(x)\n",
        "    return x['number']\n",
        "# 注意这个地方和prices的结构不一样，prices就一个对象 这是两个对象\n",
        "min({'number': 18, 'price': 1.53}, {'number': 20, 'price': 0.53}, key=sortb)"
      ]
    },
    {
      "cell_type": "markdown",
      "metadata": {},
      "source": [
        "但是，如果还想要得到最小值，你又得执行一次查找操作。比如："
      ]
    },
    {
      "cell_type": "code",
      "execution_count": 25,
      "metadata": {},
      "outputs": [
        {
          "name": "stdout",
          "output_type": "stream",
          "text": [
            "10.75\n"
          ]
        }
      ],
      "source": [
        "min_value = prices[min(prices, key=lambda k: prices[k])]\n",
        "print(min_value)"
      ]
    },
    {
      "cell_type": "markdown",
      "metadata": {},
      "source": [
        "前面的 zip() 函数方案通过将字典”反转”为 (值，键) 元组序列来解决了上述问题。\n",
        "当比较两个元组的时候，值会先进行比较，然后才是键。\n",
        "这样的话你就能通过一条简单的语句就能很轻松的实现在字典上的求最值和排序操作了。"
      ]
    },
    {
      "cell_type": "markdown",
      "metadata": {},
      "source": [
        "需要注意的是在计算操作中使用到了 (值，键) 对。当多个实体拥有相同的值的时候，键会决定返回结果。\n",
        "比如，在执行 min() 和 max() 操作的时候，如果恰巧最小或最大值有重复的，那么拥有最小或最大键的实体会返回："
      ]
    },
    {
      "cell_type": "code",
      "execution_count": 20,
      "metadata": {},
      "outputs": [
        {
          "data": {
            "text/plain": [
              "(45.23, 'AAA')"
            ]
          },
          "execution_count": 20,
          "metadata": {},
          "output_type": "execute_result"
        }
      ],
      "source": [
        "prices = { 'AAA' : 45.23, 'ZZZ': 45.23 }\n",
        "min(zip(prices.values(), prices.keys()))"
      ]
    },
    {
      "cell_type": "code",
      "execution_count": 21,
      "metadata": {},
      "outputs": [
        {
          "data": {
            "text/plain": [
              "(45.23, 'ZZZ')"
            ]
          },
          "execution_count": 21,
          "metadata": {},
          "output_type": "execute_result"
        }
      ],
      "source": [
        "max(zip(prices.values(), prices.keys()))"
      ]
    }
  ],
  "metadata": {
    "kernelspec": {
      "display_name": "Python 3",
      "language": "python",
      "name": "python3"
    },
    "language_info": {
      "codemirror_mode": {
        "name": "ipython",
        "version": 3
      },
      "file_extension": ".py",
      "mimetype": "text/x-python",
      "name": "python",
      "nbconvert_exporter": "python",
      "pygments_lexer": "ipython3",
      "version": "3.11.5"
    },
    "toc": {
      "base_numbering": 1,
      "nav_menu": {},
      "number_sections": true,
      "sideBar": true,
      "skip_h1_title": true,
      "title_cell": "Table of Contents",
      "title_sidebar": "Contents",
      "toc_cell": false,
      "toc_position": {},
      "toc_section_display": true,
      "toc_window_display": true
    }
  },
  "nbformat": 4,
  "nbformat_minor": 2
}
