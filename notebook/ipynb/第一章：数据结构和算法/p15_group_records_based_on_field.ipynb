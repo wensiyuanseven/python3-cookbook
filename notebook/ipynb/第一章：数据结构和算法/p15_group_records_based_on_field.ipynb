{
  "cells": [
    {
      "cell_type": "markdown",
      "metadata": {},
      "source": [
        "## 1.15 通过某个字段将记录分组\n"
      ]
    },
    {
      "cell_type": "markdown",
      "metadata": {},
      "source": [
        "### 问题\n"
      ]
    },
    {
      "cell_type": "markdown",
      "metadata": {},
      "source": [
        "你有一个字典或者实例的序列，然后你想根据某个特定的字段比如 date 来分组迭代访问。"
      ]
    },
    {
      "cell_type": "markdown",
      "metadata": {},
      "source": [
        "### 解决方案\n"
      ]
    },
    {
      "cell_type": "markdown",
      "metadata": {},
      "source": [
        "itertools.groupby() 函数对于这样的数据分组操作非常实用。\n",
        "为了演示，假设你已经有了下列的字典列表："
      ]
    },
    {
      "cell_type": "code",
      "execution_count": 4,
      "metadata": {},
      "outputs": [],
      "source": [
        "\n",
        "rows = [\n",
        "    {'address': '5412 N CLARK', 'date': '07/01/2012'},\n",
        "    {'address': '5148 N CLARK', 'date': '07/04/2012'},\n",
        "    {'address': '5800 E 58TH', 'date': '07/02/2012'},\n",
        "    {'address': '2122 N CLARK', 'date': '07/03/2012'},\n",
        "    {'address': '5645 N RAVENSWOOD', 'date': '07/02/2012'},\n",
        "    {'address': '1060 W ADDISON', 'date': '07/02/2012'},\n",
        "    {'address': '4801 N BROADWAY', 'date': '07/01/2012'},\n",
        "    {'address': '1039 W GRANVILLE', 'date': '07/04/2012'},\n",
        "]"
      ]
    },
    {
      "cell_type": "markdown",
      "metadata": {},
      "source": [
        "现在假设你想在按 date 分组后的数据块上进行迭代。为了这样做，你首先需要按照指定的字段(这里就是 date )排序，\n",
        "然后调用 itertools.groupby() 函数："
      ]
    },
    {
      "cell_type": "code",
      "execution_count": 18,
      "metadata": {},
      "outputs": [
        {
          "name": "stdout",
          "output_type": "stream",
          "text": [
            "07/01/2012\n",
            "  {'address': '5412 N CLARK', 'date': '07/01/2012'}\n",
            "  {'address': '4801 N BROADWAY', 'date': '07/01/2012'}\n",
            "07/02/2012\n",
            "  {'address': '5800 E 58TH', 'date': '07/02/2012'}\n",
            "  {'address': '5645 N RAVENSWOOD', 'date': '07/02/2012'}\n",
            "  {'address': '1060 W ADDISON', 'date': '07/02/2012'}\n",
            "07/03/2012\n",
            "  {'address': '2122 N CLARK', 'date': '07/03/2012'}\n",
            "07/04/2012\n",
            "  {'address': '5148 N CLARK', 'date': '07/04/2012'}\n",
            "  {'address': '1039 W GRANVILLE', 'date': '07/04/2012'}\n"
          ]
        }
      ],
      "source": [
        "from operator import itemgetter\n",
        "from itertools import groupby\n",
        "\n",
        "# Sort by the desired field first  首先按所需字段排序\n",
        "rows.sort(key=itemgetter('date'))\n",
        "# print(rows)\n",
        "# Iterate in groups\n",
        "\n",
        "for date, items in groupby(rows, key=itemgetter('date')):\n",
        "    print(date)\n",
        "    for i in items:\n",
        "        print(' ', i)"
      ]
    },
    {
      "cell_type": "code",
      "execution_count": 37,
      "metadata": {},
      "outputs": [
        {
          "name": "stdout",
          "output_type": "stream",
          "text": [
            "[{'name': 'Alice', 'age': 30}, {'name': 'Alice', 'age': 35}, {'name': 'Bob', 'age': 25}, {'name': 'Bob', 'age': 20}]\n",
            "Alice\n",
            "   {'name': 'Alice', 'age': 30}\n",
            "   {'name': 'Alice', 'age': 35}\n",
            "Bob\n",
            "   {'name': 'Bob', 'age': 25}\n",
            "   {'name': 'Bob', 'age': 20}\n"
          ]
        }
      ],
      "source": []
    },
    {
      "cell_type": "code",
      "execution_count": null,
      "metadata": {},
      "outputs": [],
      "source": [
        "07/01/2012\n",
        "  {'date': '07/01/2012', 'address': '5412 N CLARK'}\n",
        "  {'date': '07/01/2012', 'address': '4801 N BROADWAY'}\n",
        "07/02/2012\n",
        "  {'date': '07/02/2012', 'address': '5800 E 58TH'}\n",
        "  {'date': '07/02/2012', 'address': '5645 N RAVENSWOOD'}\n",
        "  {'date': '07/02/2012', 'address': '1060 W ADDISON'}\n",
        "07/03/2012\n",
        "  {'date': '07/03/2012', 'address': '2122 N CLARK'}\n",
        "07/04/2012\n",
        "  {'date': '07/04/2012', 'address': '5148 N CLARK'}\n",
        "  {'date': '07/04/2012', 'address': '1039 W GRANVILLE'}"
      ]
    },
    {
      "cell_type": "markdown",
      "metadata": {},
      "source": [
        "### 讨论\n"
      ]
    },
    {
      "cell_type": "markdown",
      "metadata": {},
      "source": [
        "groupby() 函数扫描整个序列并且查找连续相同值（或者根据指定 key 函数返回值相同）的元素序列。\n",
        "在每次迭代的时候，它会返回一个值和一个迭代器对象，\n",
        "这个迭代器对象可以生成元素值全部等于上面那个值的组中所有对象。"
      ]
    },
    {
      "cell_type": "markdown",
      "metadata": {},
      "source": [
        "一个非常重要的准备步骤是要根据指定的字段将数据排序。\n",
        "因为 groupby() 仅仅检查连续的元素，如果事先并没有排序完成的话，分组函数将得不到想要的结果。"
      ]
    },
    {
      "cell_type": "markdown",
      "metadata": {},
      "source": [
        "如果你仅仅只是想根据 date 字段将数据分组到一个大的数据结构中去，并且允许随机访问，\n",
        "那么你最好使用 defaultdict() 来构建一个多值字典，关于多值字典已经在 1.6 小节有过详细的介绍。比如："
      ]
    },
    {
      "cell_type": "code",
      "execution_count": 12,
      "metadata": {},
      "outputs": [],
      "source": [
        "from collections import defaultdict\n",
        "rows_by_date = defaultdict(list)\n",
        "for row in rows:\n",
        "    rows_by_date[row['date']].append(row)"
      ]
    },
    {
      "cell_type": "markdown",
      "metadata": {},
      "source": [
        "这样的话你可以很轻松的就能对每个指定日期访问对应的记录："
      ]
    },
    {
      "cell_type": "code",
      "execution_count": null,
      "metadata": {},
      "outputs": [],
      "source": [
        "for r in rows_by_date['07/01/2012']:\n",
        "print(r)"
      ]
    },
    {
      "cell_type": "markdown",
      "metadata": {},
      "source": [
        "在上面这个例子中，我们没有必要先将记录排序。因此，如果对内存占用不是很关心，\n",
        "这种方式会比先排序然后再通过 groupby() 函数迭代的方式运行得快一些。"
      ]
    }
  ],
  "metadata": {
    "kernelspec": {
      "display_name": "Python 3",
      "language": "python",
      "name": "python3"
    },
    "language_info": {
      "codemirror_mode": {
        "name": "ipython",
        "version": 3
      },
      "file_extension": ".py",
      "mimetype": "text/x-python",
      "name": "python",
      "nbconvert_exporter": "python",
      "pygments_lexer": "ipython3",
      "version": "3.7.1"
    },
    "toc": {
      "base_numbering": 1,
      "nav_menu": {},
      "number_sections": true,
      "sideBar": true,
      "skip_h1_title": true,
      "title_cell": "Table of Contents",
      "title_sidebar": "Contents",
      "toc_cell": false,
      "toc_position": {},
      "toc_section_display": true,
      "toc_window_display": true
    }
  },
  "nbformat": 4,
  "nbformat_minor": 2
}
