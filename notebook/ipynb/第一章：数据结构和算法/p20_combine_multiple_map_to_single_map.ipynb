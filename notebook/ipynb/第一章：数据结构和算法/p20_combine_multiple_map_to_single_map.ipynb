{
  "cells": [
    {
      "cell_type": "markdown",
      "metadata": {},
      "source": [
        "## 1.20 合并多个字典或映射\n"
      ]
    },
    {
      "cell_type": "markdown",
      "metadata": {},
      "source": [
        "### 问题\n"
      ]
    },
    {
      "cell_type": "markdown",
      "metadata": {},
      "source": [
        "现在有多个字典或者映射，你想将它们从逻辑上合并为一个单一的映射后执行某些操作，\n",
        "比如查找值或者检查某些键是否存在。"
      ]
    },
    {
      "cell_type": "markdown",
      "metadata": {},
      "source": [
        "### 解决方案\n"
      ]
    },
    {
      "cell_type": "markdown",
      "metadata": {},
      "source": [
        "假如你有如下两个字典:"
      ]
    },
    {
      "cell_type": "code",
      "execution_count": 1,
      "metadata": {},
      "outputs": [],
      "source": [
        "a = {'x': 1, 'z': 3 }\n",
        "b = {'y': 2, 'z': 4 }"
      ]
    },
    {
      "cell_type": "markdown",
      "metadata": {},
      "source": [
        "现在假设你必须在两个字典中执行查找操作（比如先从 a 中找，如果找不到再在 b 中找）。\n",
        "一个非常简单的解决方案就是使用 collections 模块中的 ChainMap 类。比如："
      ]
    },
    {
      "cell_type": "code",
      "execution_count": 2,
      "metadata": {},
      "outputs": [
        {
          "name": "stdout",
          "output_type": "stream",
          "text": [
            "1\n",
            "2\n",
            "3\n"
          ]
        }
      ],
      "source": [
        "from collections import ChainMap\n",
        "c = ChainMap(a,b)\n",
        "print(c['x']) # Outputs 1 (from a)\n",
        "print(c['y']) # Outputs 2 (from b)\n",
        "print(c['z']) # Outputs 3 (from a)"
      ]
    },
    {
      "cell_type": "markdown",
      "metadata": {},
      "source": [
        "### 讨论\n"
      ]
    },
    {
      "cell_type": "markdown",
      "metadata": {},
      "source": [
        "一个 ChainMap 接受多个字典并将它们在逻辑上变为一个字典。\n",
        "然后，这些字典并不是真的合并在一起了， ChainMap 类只是在内部创建了一个容纳这些字典的列表\n",
        "并重新定义了一些常见的字典操作来遍历这个列表。大部分字典操作都是可以正常使用的，比如："
      ]
    },
    {
      "cell_type": "code",
      "execution_count": null,
      "metadata": {},
      "outputs": [],
      "source": [
        "len(c)"
      ]
    },
    {
      "cell_type": "code",
      "execution_count": null,
      "metadata": {},
      "outputs": [],
      "source": [
        "list(c.keys())"
      ]
    },
    {
      "cell_type": "code",
      "execution_count": null,
      "metadata": {},
      "outputs": [],
      "source": [
        "list(c.values())"
      ]
    },
    {
      "cell_type": "markdown",
      "metadata": {},
      "source": [
        "如果出现重复键，那么第一次出现的映射值会被返回。\n",
        "因此，例子程序中的 c['z'] 总是会返回字典 a 中对应的值，而不是 b 中对应的值。"
      ]
    },
    {
      "cell_type": "markdown",
      "metadata": {},
      "source": [
        "对于字典的更新或删除操作总是影响的是列表中第一个字典。比如："
      ]
    },
    {
      "cell_type": "code",
      "execution_count": null,
      "metadata": {},
      "outputs": [],
      "source": [
        "c['z'] = 10\n",
        "c['w'] = 40\n",
        "del c['x']\n",
        "a"
      ]
    },
    {
      "cell_type": "code",
      "execution_count": null,
      "metadata": {},
      "outputs": [],
      "source": [
        "del c['y']"
      ]
    },
    {
      "cell_type": "markdown",
      "metadata": {},
      "source": [
        "ChainMap 对于编程语言中的作用范围变量（比如 globals , locals 等）是非常有用的。\n",
        "事实上，有一些方法可以使它变得简单："
      ]
    },
    {
      "cell_type": "code",
      "execution_count": null,
      "metadata": {},
      "outputs": [],
      "source": [
        "values = ChainMap()\n",
        "values['x'] = 1\n",
        "# Add a new mapping\n",
        "values = values.new_child()\n",
        "values['x'] = 2\n",
        "# Add a new mapping\n",
        "values = values.new_child()\n",
        "values['x'] = 3\n",
        "values"
      ]
    },
    {
      "cell_type": "code",
      "execution_count": null,
      "metadata": {},
      "outputs": [],
      "source": [
        "values['x']"
      ]
    },
    {
      "cell_type": "code",
      "execution_count": null,
      "metadata": {},
      "outputs": [],
      "source": [
        "# Discard last mapping\n",
        "values = values.parents\n",
        "values['x']"
      ]
    },
    {
      "cell_type": "code",
      "execution_count": null,
      "metadata": {},
      "outputs": [],
      "source": [
        "# Discard last mapping\n",
        "values = values.parents\n",
        "values['x']"
      ]
    },
    {
      "cell_type": "code",
      "execution_count": null,
      "metadata": {},
      "outputs": [],
      "source": [
        "values"
      ]
    },
    {
      "cell_type": "markdown",
      "metadata": {},
      "source": [
        "作为 ChainMap 的替代，你可能会考虑使用 update() 方法将两个字典合并。比如："
      ]
    },
    {
      "cell_type": "code",
      "execution_count": null,
      "metadata": {},
      "outputs": [],
      "source": [
        "a = {'x': 1, 'z': 3 }\n",
        "b = {'y': 2, 'z': 4 }\n",
        "# print(dict(b))\n",
        "merged = dict(b)\n",
        "merged.update(a)\n",
        "merged['x']"
      ]
    },
    {
      "cell_type": "code",
      "execution_count": null,
      "metadata": {},
      "outputs": [],
      "source": [
        "merged['y']"
      ]
    },
    {
      "cell_type": "code",
      "execution_count": null,
      "metadata": {},
      "outputs": [],
      "source": [
        "merged['z']"
      ]
    },
    {
      "cell_type": "markdown",
      "metadata": {},
      "source": [
        "这样也能行得通，但是它需要你创建一个完全不同的字典对象（或者是破坏现有字典结构）。\n",
        "同时，如果原字典做了更新，这种改变不会反应到新的合并字典中去。比如："
      ]
    },
    {
      "cell_type": "code",
      "execution_count": null,
      "metadata": {},
      "outputs": [],
      "source": [
        "a['x'] = 13\n",
        "merged['x']"
      ]
    },
    {
      "cell_type": "markdown",
      "metadata": {},
      "source": [
        "ChainMap 使用原来的字典，它自己不创建新的字典。所以它并不会产生上面所说的结果，比如："
      ]
    },
    {
      "cell_type": "code",
      "execution_count": 3,
      "metadata": {},
      "outputs": [
        {
          "data": {
            "text/plain": [
              "1"
            ]
          },
          "execution_count": 3,
          "metadata": {},
          "output_type": "execute_result"
        }
      ],
      "source": [
        "a = {'x': 1, 'z': 3 }\n",
        "b = {'y': 2, 'z': 4 }\n",
        "merged = ChainMap(a, b)\n",
        "merged['x']"
      ]
    },
    {
      "cell_type": "code",
      "execution_count": 4,
      "metadata": {},
      "outputs": [
        {
          "data": {
            "text/plain": [
              "42"
            ]
          },
          "execution_count": 4,
          "metadata": {},
          "output_type": "execute_result"
        }
      ],
      "source": [
        "a['x'] = 42\n",
        "merged['x'] # Notice change to merged dicts"
      ]
    }
  ],
  "metadata": {
    "kernelspec": {
      "display_name": "Python 3",
      "language": "python",
      "name": "python3"
    },
    "language_info": {
      "codemirror_mode": {
        "name": "ipython",
        "version": 3
      },
      "file_extension": ".py",
      "mimetype": "text/x-python",
      "name": "python",
      "nbconvert_exporter": "python",
      "pygments_lexer": "ipython3",
      "version": "3.11.5"
    },
    "toc": {
      "base_numbering": 1,
      "nav_menu": {},
      "number_sections": true,
      "sideBar": true,
      "skip_h1_title": true,
      "title_cell": "Table of Contents",
      "title_sidebar": "Contents",
      "toc_cell": false,
      "toc_position": {},
      "toc_section_display": true,
      "toc_window_display": true
    }
  },
  "nbformat": 4,
  "nbformat_minor": 2
}
