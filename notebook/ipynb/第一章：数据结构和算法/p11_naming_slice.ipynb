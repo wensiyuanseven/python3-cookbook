{
  "cells": [
    {
      "cell_type": "markdown",
      "metadata": {},
      "source": [
        "## 1.11 命名切片\n"
      ]
    },
    {
      "cell_type": "markdown",
      "metadata": {},
      "source": [
        "### 问题\n"
      ]
    },
    {
      "cell_type": "markdown",
      "metadata": {},
      "source": [
        "如果你的程序包含了大量无法直视的硬编码切片，并且你想清理一下代码。"
      ]
    },
    {
      "cell_type": "markdown",
      "metadata": {},
      "source": [
        "### 解决方案\n"
      ]
    },
    {
      "cell_type": "markdown",
      "metadata": {},
      "source": [
        "假定你要从一个记录（比如文件或其他类似格式）中的某些固定位置提取字段："
      ]
    },
    {
      "cell_type": "code",
      "execution_count": 10,
      "metadata": {},
      "outputs": [
        {
          "name": "stdout",
          "output_type": "stream",
          "text": [
            "100 513.25 51325.0 end=\n"
          ]
        }
      ],
      "source": [
        "######    0123456789012345678901234567890123456789012345678901234567890'\n",
        "record = '....................100 .......513.25 ..........'\n",
        "cost = int(record[20:23]) * float(record[31:37])\n",
        "print(record[20:23], float(record[31:37]),cost,'end=')"
      ]
    },
    {
      "cell_type": "markdown",
      "metadata": {},
      "source": [
        "与其那样写，为什么不想这样命名切片呢："
      ]
    },
    {
      "cell_type": "code",
      "execution_count": 13,
      "metadata": {},
      "outputs": [
        {
          "name": "stdout",
          "output_type": "stream",
          "text": [
            "51325.0\n"
          ]
        }
      ],
      "source": [
        "SHARES = slice(20, 23)\n",
        "PRICE = slice(31, 37)\n",
        "cost = int(record[SHARES]) * float(record[PRICE])\n",
        "print(cost)"
      ]
    },
    {
      "cell_type": "markdown",
      "metadata": {},
      "source": [
        "在这个版本中，你避免了使用大量难以理解的硬编码下标。这使得你的代码更加清晰可读。"
      ]
    },
    {
      "cell_type": "markdown",
      "metadata": {},
      "source": [
        "### 讨论\n"
      ]
    },
    {
      "cell_type": "markdown",
      "metadata": {},
      "source": [
        "一般来讲，代码中如果出现大量的硬编码下标会使得代码的可读性和可维护性大大降低。\n",
        "比如，如果你回过来看看一年前你写的代码，你会摸着脑袋想那时候自己到底想干嘛啊。\n",
        "这是一个很简单的解决方案，它让你更加清晰的表达代码的目的。"
      ]
    },
    {
      "cell_type": "markdown",
      "metadata": {},
      "source": [
        "内置的 slice() 函数创建了一个切片对象。所有使用切片的地方都可以使用切片对象。比如："
      ]
    },
    {
      "cell_type": "code",
      "execution_count": 29,
      "metadata": {},
      "outputs": [
        {
          "data": {
            "text/plain": [
              "[2, 3]"
            ]
          },
          "execution_count": 29,
          "metadata": {},
          "output_type": "execute_result"
        }
      ],
      "source": [
        "items = [0, 1, 2, 3, 4, 5, 6]\n",
        "a = slice(2, 4)\n",
        "items[2:4]"
      ]
    },
    {
      "cell_type": "code",
      "execution_count": 30,
      "metadata": {},
      "outputs": [
        {
          "data": {
            "text/plain": [
              "[2, 3]"
            ]
          },
          "execution_count": 30,
          "metadata": {},
          "output_type": "execute_result"
        }
      ],
      "source": [
        "items[a]"
      ]
    },
    {
      "cell_type": "code",
      "execution_count": 33,
      "metadata": {},
      "outputs": [
        {
          "data": {
            "text/plain": [
              "[0, 1, 1111, 11, 4, 5, 6]"
            ]
          },
          "execution_count": 33,
          "metadata": {},
          "output_type": "execute_result"
        }
      ],
      "source": [
        "items[slice(2, 4)] = [1111, 11]\n",
        "items"
      ]
    },
    {
      "cell_type": "code",
      "execution_count": 34,
      "metadata": {},
      "outputs": [
        {
          "data": {
            "text/plain": [
              "[0, 1, 4, 5, 6]"
            ]
          },
          "execution_count": 34,
          "metadata": {},
          "output_type": "execute_result"
        }
      ],
      "source": [
        "del items[a]\n",
        "items"
      ]
    },
    {
      "cell_type": "markdown",
      "metadata": {},
      "source": [
        "如果你有一个切片对象a，你可以分别调用它的 a.start , a.stop , a.step 属性来获取更多的信息。比如："
      ]
    },
    {
      "cell_type": "code",
      "execution_count": 39,
      "metadata": {},
      "outputs": [
        {
          "data": {
            "text/plain": [
              "5"
            ]
          },
          "execution_count": 39,
          "metadata": {},
          "output_type": "execute_result"
        }
      ],
      "source": [
        "a = slice(5, 50, 2)\n",
        "a.start"
      ]
    },
    {
      "cell_type": "code",
      "execution_count": 40,
      "metadata": {},
      "outputs": [
        {
          "data": {
            "text/plain": [
              "50"
            ]
          },
          "execution_count": 40,
          "metadata": {},
          "output_type": "execute_result"
        }
      ],
      "source": [
        "a.stop"
      ]
    },
    {
      "cell_type": "code",
      "execution_count": 42,
      "metadata": {},
      "outputs": [
        {
          "data": {
            "text/plain": [
              "2"
            ]
          },
          "execution_count": 42,
          "metadata": {},
          "output_type": "execute_result"
        }
      ],
      "source": [
        "a.step"
      ]
    },
    {
      "cell_type": "markdown",
      "metadata": {},
      "source": [
        "另外，你还可以通过调用切片的 indices(size) 方法将它映射到一个已知大小的序列上。\n",
        "这个方法返回一个三元组 (start, stop, step) ，所有的值都会被缩小，直到适合这个已知序列的边界为止。\n",
        "这样，使用的时就不会出现 IndexError 异常。比如："
      ]
    },
    {
      "cell_type": "code",
      "execution_count": 90,
      "metadata": {},
      "outputs": [
        {
          "name": "stdout",
          "output_type": "stream",
          "text": [
            "10 slice(5, 50, 2)\n"
          ]
        },
        {
          "data": {
            "text/plain": [
              "(5, 13, 2)"
            ]
          },
          "execution_count": 90,
          "metadata": {},
          "output_type": "execute_result"
        }
      ],
      "source": [
        "s = 'HelloWorld'\n",
        "a = slice(5, 50, 2)\n",
        "print(len(s), a)\n",
        "a.indices(len(s))  # indices 指标   随机返回"
      ]
    },
    {
      "cell_type": "code",
      "execution_count": 91,
      "metadata": {},
      "outputs": [
        {
          "name": "stdout",
          "output_type": "stream",
          "text": [
            "5 10 2\n",
            "W\n",
            "r\n",
            "d\n"
          ]
        }
      ],
      "source": [
        "print(*a.indices(len(s)))\n",
        "for i in range(*a.indices(len(s))):\n",
        "    print(s[i])"
      ]
    }
  ],
  "metadata": {
    "kernelspec": {
      "display_name": "Python 3",
      "language": "python",
      "name": "python3"
    },
    "language_info": {
      "codemirror_mode": {
        "name": "ipython",
        "version": 3
      },
      "file_extension": ".py",
      "mimetype": "text/x-python",
      "name": "python",
      "nbconvert_exporter": "python",
      "pygments_lexer": "ipython3",
      "version": "3.11.5"
    },
    "toc": {
      "base_numbering": 1,
      "nav_menu": {},
      "number_sections": true,
      "sideBar": true,
      "skip_h1_title": true,
      "title_cell": "Table of Contents",
      "title_sidebar": "Contents",
      "toc_cell": false,
      "toc_position": {},
      "toc_section_display": true,
      "toc_window_display": true
    }
  },
  "nbformat": 4,
  "nbformat_minor": 2
}
